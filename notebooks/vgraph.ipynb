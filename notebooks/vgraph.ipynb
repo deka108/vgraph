{
 "cells": [
  {
   "cell_type": "code",
   "execution_count": 285,
   "metadata": {},
   "outputs": [],
   "source": [
    "import cv2\n",
    "import itertools\n",
    "import numpy as np\n",
    "import os\n",
    "import sys\n",
    "\n",
    "from scipy.spatial import ConvexHull, convex_hull_plot_2d\n",
    "\n",
    "module_path = os.path.abspath(os.path.join('..'))\n",
    "if module_path not in sys.path:\n",
    "    sys.path.append(module_path)"
   ]
  },
  {
   "cell_type": "code",
   "execution_count": 3,
   "metadata": {},
   "outputs": [],
   "source": [
    "from src import create_map\n",
    "from src.create_map import load_obstacles\n",
    "from src.create_map import load_goal\n",
    "from src.create_map import map2img"
   ]
  },
  {
   "cell_type": "code",
   "execution_count": 254,
   "metadata": {},
   "outputs": [],
   "source": [
    "from collections import namedtuple\n",
    "Point = namedtuple('Point', 'x, y')"
   ]
  },
  {
   "cell_type": "code",
   "execution_count": 26,
   "metadata": {},
   "outputs": [],
   "source": [
    "obstacles = load_obstacles(\"../data/world_obstacles.txt\")"
   ]
  },
  {
   "cell_type": "code",
   "execution_count": null,
   "metadata": {},
   "outputs": [],
   "source": [
    "# The map we use in RViz is 1200cm by 600cm, \n",
    "# top left and bottom right are (-300, 300) and (900, -300) respectively. \n",
    "\n",
    "# Also note that cells in the RViz grid are 50cm by 50cm, \n",
    "# The start position of the robot is always at (0, 0), \n",
    "# facing x-positive and the goal is defined in data/goal.txt. \n",
    "# assume the robot to be a 36cm-by-36cm square\n",
    "\n",
    "# The obstacles are orange polygons and the goal is a purple dot. \n",
    "\n",
    "# More about using the map_server package here.\n",
    "\n",
    "# robot to be a 36cm-by-36cm square."
   ]
  },
  {
   "cell_type": "code",
   "execution_count": 72,
   "metadata": {},
   "outputs": [],
   "source": [
    "# for each obstacle, generate four squares which adds the padding of 18 - 18 to each point of the obstacle"
   ]
  },
  {
   "cell_type": "code",
   "execution_count": 27,
   "metadata": {},
   "outputs": [
    {
     "data": {
      "text/plain": [
       "[[[100, 0], [100, 50], [150, 0]],\n",
       " [[225, 25], [275, 25], [325, -25], [275, -75]],\n",
       " [[450, 30], [450, 130], [525, 130], [525, 30]],\n",
       " [[400, -50], [400, -100], [425, -50]],\n",
       " [[300, 100], [300, 150], [350, 150], [350, 100]]]"
      ]
     },
     "execution_count": 27,
     "metadata": {},
     "output_type": "execute_result"
    }
   ],
   "source": [
    "obstacles"
   ]
  },
  {
   "cell_type": "code",
   "execution_count": 28,
   "metadata": {},
   "outputs": [],
   "source": [
    "goal = load_goal(\"../data/goal.txt\")"
   ]
  },
  {
   "cell_type": "code",
   "execution_count": 30,
   "metadata": {},
   "outputs": [],
   "source": [
    "start = [0, 0]"
   ]
  },
  {
   "cell_type": "code",
   "execution_count": 273,
   "metadata": {},
   "outputs": [],
   "source": [
    "# get expanded obstacles\n",
    "hulls = []\n",
    "temp_obstacles = []\n",
    "grown_obstacles = []\n",
    "padded_simplices = []\n",
    "for obstacle in obstacles:\n",
    "    expanded_obstacles = []\n",
    "    for point in obstacle:\n",
    "        expanded_obstacles.append(point)\n",
    "        expanded_obstacles.append([point[0] - 18, point[1] - 18])\n",
    "        expanded_obstacles.append([point[0] + 18, point[1] + 18])\n",
    "        expanded_obstacles.append([point[0] + 18, point[1] - 18])\n",
    "        expanded_obstacles.append([point[0] - 18, point[1] + 18])\n",
    "    expanded_obstacles = np.array(expanded_obstacles)\n",
    "    temp_obstacles.append(expanded_obstacles)\n",
    "    hull = ConvexHull(expanded_obstacles)\n",
    "    \n",
    "    x = expanded_obstacles[hull.vertices, 0]\n",
    "    y = expanded_obstacles[hull.vertices, 1]\n",
    "    points = np.stack((x, y), axis=-1)\n",
    "    grown_obstacles.append(points)\n",
    "    \n",
    "    simplices = np.stack((expanded_obstacles[hull.simplices, 0], \n",
    "                          expanded_obstacles[hull.simplices, 1]), \n",
    "                         axis=1)\n",
    "    padded_simplices.append(simplices)\n",
    "    \n",
    "    hulls.append(hull)"
   ]
  },
  {
   "cell_type": "code",
   "execution_count": 253,
   "metadata": {},
   "outputs": [
    {
     "data": {
      "image/png": "[encoded data removed]",
      "text/plain": [
       "<Figure size 432x288 with 1 Axes>"
      ]
     },
     "metadata": {
      "needs_background": "light"
     },
     "output_type": "display_data"
    }
   ],
   "source": [
    "for idx, simplices in enumerate(padded_simplices):\n",
    "    for simplex in simplices:\n",
    "        plt.plot(simplex[0], simplex[1], 'k-')"
   ]
  },
  {
   "cell_type": "code",
   "execution_count": 274,
   "metadata": {},
   "outputs": [
    {
     "data": {
      "image/png": "[encoded data removed]",
      "text/plain": [
       "<Figure size 432x288 with 1 Axes>"
      ]
     },
     "metadata": {
      "needs_background": "light"
     },
     "output_type": "display_data"
    }
   ],
   "source": [
    "for obstacle in padded_obstacles:\n",
    "    plt.plot(obstacle[:,0], obstacle[:,1], '--k')"
   ]
  },
  {
   "cell_type": "code",
   "execution_count": 395,
   "metadata": {},
   "outputs": [],
   "source": [
    "# for collision detection: checking if line segments intersect\n",
    "\n",
    "class Direction:\n",
    "    CLOCKWISE = 0\n",
    "    ANTI_CLOCKWISE = 1\n",
    "    COLINEAR = 2\n",
    "    \n",
    "EPSILON = 0\n",
    "\n",
    "def point_lie_on_segment(point1, point2, point3, epsilon=EPSILON):\n",
    "    if min(point1.x, point2.x) - epsilon <= point3.x <= max(point1.x, point2.x) + epsilon and \\\n",
    "        min(point1.y, point2.y) - epsilon <= point3.y <= max(point1.y, point2.y) + epsilon :\n",
    "        return True\n",
    "    return False\n",
    "\n",
    "def compute_orientation(point1, point2, point3, epsilon=EPSILON):\n",
    "    cross_product = (point2.y - point1.y) * (point3.x - point2.x) -  (point2.x - point1.x) * (point3.y - point2.y)\n",
    "    \n",
    "    if abs(cross_product) <= epsilon:\n",
    "        return Direction.COLINEAR\n",
    "    elif cross_product > 0:\n",
    "        return Direction.CLOCKWISE\n",
    "    elif cross_product < 0:\n",
    "        return Direction.ANTI_CLOCKWISE\n",
    "\n",
    "def segment_intersect(point1, point2, point3, point4, epsilon = EPSILON):\n",
    "    orientation1 = compute_orientation(point1, point2, point3)\n",
    "    orientation2 = compute_orientation(point1, point2, point4)\n",
    "    orientation3 = compute_orientation(point3, point4, point1)\n",
    "    orientation4 = compute_orientation(point3, point4, point2)\n",
    "    \n",
    "    if orientation1 != orientation2 and orientation3 != orientation4:\n",
    "        return True\n",
    "    \n",
    "    if orientation1 == Direction.COLINEAR and  point_lie_on_segment(point1, point2, point3, epsilon):\n",
    "        return True\n",
    "    \n",
    "    if orientation2 == Direction.COLINEAR and point_lie_on_segment(point1, point2, point4, epsilon):\n",
    "        return True\n",
    "\n",
    "    if orientation3 == Direction.COLINEAR and point_lie_on_segment(point3, point4, point1, epsilon):\n",
    "        return True\n",
    "    \n",
    "    if orientation4 == Direction.COLINEAR and point_lie_on_segment(point3, point4, point2, epsilon):\n",
    "        return True\n",
    "    \n",
    "    return False"
   ]
  },
  {
   "cell_type": "code",
   "execution_count": 265,
   "metadata": {},
   "outputs": [
    {
     "data": {
      "text/plain": [
       "[0, 0]"
      ]
     },
     "execution_count": 265,
     "metadata": {},
     "output_type": "execute_result"
    }
   ],
   "source": [
    "start"
   ]
  },
  {
   "cell_type": "code",
   "execution_count": 263,
   "metadata": {},
   "outputs": [
    {
     "data": {
      "text/plain": [
       "[600, 0]"
      ]
     },
     "execution_count": 263,
     "metadata": {},
     "output_type": "execute_result"
    }
   ],
   "source": [
    "goal"
   ]
  },
  {
   "cell_type": "code",
   "execution_count": 280,
   "metadata": {},
   "outputs": [
    {
     "data": {
      "text/plain": [
       "[[Point(x=168, y=18),\n",
       "  Point(x=118, y=68),\n",
       "  Point(x=82, y=68),\n",
       "  Point(x=82, y=-18),\n",
       "  Point(x=168, y=-18)],\n",
       " [Point(x=207, y=7),\n",
       "  Point(x=257, y=-93),\n",
       "  Point(x=293, y=-93),\n",
       "  Point(x=343, y=-43),\n",
       "  Point(x=343, y=-7),\n",
       "  Point(x=293, y=43),\n",
       "  Point(x=207, y=43)],\n",
       " [Point(x=432, y=12),\n",
       "  Point(x=543, y=12),\n",
       "  Point(x=543, y=148),\n",
       "  Point(x=432, y=148)],\n",
       " [Point(x=443, y=-32),\n",
       "  Point(x=382, y=-32),\n",
       "  Point(x=382, y=-118),\n",
       "  Point(x=418, y=-118),\n",
       "  Point(x=443, y=-68)],\n",
       " [Point(x=282, y=82),\n",
       "  Point(x=368, y=82),\n",
       "  Point(x=368, y=168),\n",
       "  Point(x=282, y=168)]]"
      ]
     },
     "execution_count": 280,
     "metadata": {},
     "output_type": "execute_result"
    }
   ],
   "source": [
    "obstacle_points = []\n",
    "for obs in grown_obstacles:\n",
    "    obs_points = []\n",
    "    for point in obs:\n",
    "        obs_points.append(Point(*point))\n",
    "    obstacle_points.append(obs_points)\n",
    "obstacle_points"
   ]
  },
  {
   "cell_type": "code",
   "execution_count": 295,
   "metadata": {},
   "outputs": [
    {
     "data": {
      "text/plain": [
       "[Point(x=168, y=18),\n",
       " Point(x=118, y=68),\n",
       " Point(x=82, y=68),\n",
       " Point(x=82, y=-18),\n",
       " Point(x=168, y=-18)]"
      ]
     },
     "execution_count": 295,
     "metadata": {},
     "output_type": "execute_result"
    }
   ],
   "source": [
    "obstacle_points[0]"
   ]
  },
  {
   "cell_type": "code",
   "execution_count": 393,
   "metadata": {},
   "outputs": [
    {
     "data": {
      "text/plain": [
       "[[(Point(x=168, y=18), Point(x=118, y=68)),\n",
       "  (Point(x=118, y=68), Point(x=82, y=68)),\n",
       "  (Point(x=82, y=68), Point(x=82, y=-18)),\n",
       "  (Point(x=82, y=-18), Point(x=168, y=-18)),\n",
       "  (Point(x=168, y=-18), Point(x=168, y=18))],\n",
       " [(Point(x=207, y=7), Point(x=257, y=-93)),\n",
       "  (Point(x=257, y=-93), Point(x=293, y=-93)),\n",
       "  (Point(x=293, y=-93), Point(x=343, y=-43)),\n",
       "  (Point(x=343, y=-43), Point(x=343, y=-7)),\n",
       "  (Point(x=343, y=-7), Point(x=293, y=43)),\n",
       "  (Point(x=293, y=43), Point(x=207, y=43)),\n",
       "  (Point(x=207, y=43), Point(x=207, y=7))],\n",
       " [(Point(x=432, y=12), Point(x=543, y=12)),\n",
       "  (Point(x=543, y=12), Point(x=543, y=148)),\n",
       "  (Point(x=543, y=148), Point(x=432, y=148)),\n",
       "  (Point(x=432, y=148), Point(x=432, y=12))],\n",
       " [(Point(x=443, y=-32), Point(x=382, y=-32)),\n",
       "  (Point(x=382, y=-32), Point(x=382, y=-118)),\n",
       "  (Point(x=382, y=-118), Point(x=418, y=-118)),\n",
       "  (Point(x=418, y=-118), Point(x=443, y=-68)),\n",
       "  (Point(x=443, y=-68), Point(x=443, y=-32))],\n",
       " [(Point(x=282, y=82), Point(x=368, y=82)),\n",
       "  (Point(x=368, y=82), Point(x=368, y=168)),\n",
       "  (Point(x=368, y=168), Point(x=282, y=168)),\n",
       "  (Point(x=282, y=168), Point(x=282, y=82))]]"
      ]
     },
     "execution_count": 393,
     "metadata": {},
     "output_type": "execute_result"
    }
   ],
   "source": [
    "# computing line segments for convex hull edge\n",
    "obstacle_edges = []\n",
    "\n",
    "# iterate for every obstacle point collections\n",
    "for obs in obstacle_points:\n",
    "    obs_point_segments = [(obs[i], obs[i+1]) for i in range(len(obs) - 1) ]\n",
    "    if len(obs) > 2:\n",
    "        obs_point_segments.append((obs[-1], obs[0]))\n",
    "    obstacle_edges.append(obs_point_segments)\n",
    "obstacle_edges"
   ]
  },
  {
   "cell_type": "code",
   "execution_count": 388,
   "metadata": {},
   "outputs": [
    {
     "data": {
      "text/plain": [
       "[(Point(x=168, y=18), Point(x=118, y=68)),\n",
       " (Point(x=118, y=68), Point(x=82, y=68)),\n",
       " (Point(x=82, y=68), Point(x=82, y=-18)),\n",
       " (Point(x=82, y=-18), Point(x=168, y=-18)),\n",
       " (Point(x=168, y=-18), Point(x=168, y=18))]"
      ]
     },
     "execution_count": 388,
     "metadata": {},
     "output_type": "execute_result"
    }
   ],
   "source": [
    "# computing line segments for one convex hull edge\n",
    "obs_point_segments = [(obstacle_points[0][i], obstacle_points[0][i+1]) for i in range(len(obstacle_points[0]) - 1) ]\n",
    "if len(obstacle_points[0]) > 2:\n",
    "    obs_point_segments.append((obstacle_points[0][-1], obstacle_points[0][0]))\n",
    "obs_point_segments"
   ]
  },
  {
   "cell_type": "code",
   "execution_count": 352,
   "metadata": {},
   "outputs": [
    {
     "data": {
      "text/plain": [
       "[(Point(x=0, y=0), Point(x=168, y=18)),\n",
       " (Point(x=0, y=0), Point(x=118, y=68)),\n",
       " (Point(x=0, y=0), Point(x=82, y=68)),\n",
       " (Point(x=0, y=0), Point(x=82, y=-18)),\n",
       " (Point(x=0, y=0), Point(x=168, y=-18))]"
      ]
     },
     "execution_count": 352,
     "metadata": {},
     "output_type": "execute_result"
    }
   ],
   "source": [
    "# from start point to points in convex hull\n",
    "start_obs_segments = [(start_point, obs_point) for obs_point in obstacle_points[0]]\n",
    "start_obs_segments"
   ]
  },
  {
   "cell_type": "code",
   "execution_count": 330,
   "metadata": {},
   "outputs": [
    {
     "data": {
      "text/plain": [
       "(Point(x=0, y=0), Point(x=168, y=18))"
      ]
     },
     "execution_count": 330,
     "metadata": {},
     "output_type": "execute_result"
    }
   ],
   "source": [
    "# start_obs_segments[0]"
   ]
  },
  {
   "cell_type": "code",
   "execution_count": 347,
   "metadata": {},
   "outputs": [
    {
     "data": {
      "text/plain": [
       "[0, 1, 2, 3, 4, 5, 6, 7, 8]"
      ]
     },
     "execution_count": 347,
     "metadata": {},
     "output_type": "execute_result"
    }
   ],
   "source": [
    "[i for i in range(10)][0:-1]"
   ]
  },
  {
   "cell_type": "code",
   "execution_count": 391,
   "metadata": {},
   "outputs": [
    {
     "data": {
      "text/plain": [
       "[(Point(x=0, y=0), Point(x=82, y=68)), (Point(x=0, y=0), Point(x=82, y=-18))]"
      ]
     },
     "execution_count": 391,
     "metadata": {},
     "output_type": "execute_result"
    }
   ],
   "source": [
    "lines_not_intersect = []\n",
    "for idx1, start_obs_segment in enumerate(start_obs_segments):\n",
    "    intersect = False\n",
    "\n",
    "    for obs_point_segment in checked_segments:\n",
    "        # skip checks if the end point of the start point is the same as the start or end of the obstacle segment\n",
    "        if point_lie_on_segment(obs_point_segment[0], obs_point_segment[1], start_obs_segment[1]):\n",
    "            continue\n",
    "            \n",
    "        intersect = segment_intersect(*start_obs_segment, *obs_point_segment)\n",
    "        if intersect:\n",
    "            break\n",
    "\n",
    "    if not intersect:\n",
    "        lines_not_intersect.append(start_obs_segment)\n",
    "\n",
    "lines_not_intersect"
   ]
  },
  {
   "cell_type": "code",
   "execution_count": null,
   "metadata": {},
   "outputs": [],
   "source": [
    "# 1) connect the points, from start point to every point in convex hull and goal\n",
    "# and from every point of convex hull to other points in other convex hulls and goal\n",
    "# 2) remove unseen lines, by removing the edges that intersect with the convex hull edge\n",
    "# 3) special case: check from start to goal with all other points in convex"
   ]
  },
  {
   "cell_type": "code",
   "execution_count": 101,
   "metadata": {},
   "outputs": [],
   "source": [
    "def plot_map(start, goal, obstacles):\n",
    "    # Create a black image\n",
    "    img = np.full((600, 1200, 3), 255, np.uint8)\n",
    "\n",
    "    obs = []\n",
    "    # draw obstacles\n",
    "    for ob in obstacles:\n",
    "        ob = map2img(ob)\n",
    "        obs.append(ob)\n",
    "        # print(len(ob))\n",
    "        # print(ob)\n",
    "        cv2.fillConvexPoly(img, ob.reshape(-1, 1, 2), (255,255,0))\n",
    "\n",
    "    # draw start and goal point\n",
    "    goal_img = tuple(map2img([goal])[0])\n",
    "    start_img = tuple(map2img([start])[0])\n",
    "    circ1 = cv2.circle(img, goal_img, 7, (100, 0, 0), -1)\n",
    "    circ2 = cv2.circle(img, start_img, 7, (0, 0, 100), -1)\n",
    "    \n",
    "    fig = plt.figure(figsize=(20, 20))\n",
    "    plt.imshow(cv2.cvtColor(img, cv2.COLOR_BGR2RGB))\n",
    "#     plt.show()"
   ]
  },
  {
   "cell_type": "code",
   "execution_count": 63,
   "metadata": {},
   "outputs": [],
   "source": [
    "# Create a black image\n",
    "img = np.full((600, 1200, 3), 255, np.uint8)\n",
    "    \n",
    "obs = []\n",
    "# draw obstacles\n",
    "for ob in obstacles:\n",
    "    ob = map2img(ob)\n",
    "    obs.append(ob)\n",
    "    # print(len(ob))\n",
    "    # print(ob)\n",
    "    cv2.fillConvexPoly(img, ob.reshape(-1, 1, 2), (255,255,0))\n",
    "\n",
    "# draw start and goal point\n",
    "goal_img = tuple(map2img([goal])[0])\n",
    "start_img = tuple(map2img([start])[0])\n",
    "circ1 = cv2.circle(img, goal_img, 7, (100, 0, 0), -1)\n",
    "circ2 = cv2.circle(img, start_img, 7, (0, 0, 100), -1)"
   ]
  },
  {
   "cell_type": "code",
   "execution_count": 58,
   "metadata": {},
   "outputs": [
    {
     "data": {
      "image/png": "[encoded data removed]",
      "text/plain": [
       "<Figure size 1440x1440 with 1 Axes>"
      ]
     },
     "metadata": {
      "needs_background": "light"
     },
     "output_type": "display_data"
    }
   ],
   "source": [
    "fig = plt.figure(figsize=(20, 20))\n",
    "# ax = fig.gca()\n",
    "# ax.set_xticks(np.arange(0, 1, 1))\n",
    "# ax.set_yticks(np.arange(0, 1, 1))\n",
    "plt.imshow(cv2.cvtColor(img, cv2.COLOR_BGR2RGB))\n",
    "plt.show()"
   ]
  },
  {
   "cell_type": "code",
   "execution_count": 105,
   "metadata": {},
   "outputs": [
    {
     "data": {
      "image/png": "[encoded data removed]",
      "text/plain": [
       "<Figure size 1440x1440 with 1 Axes>"
      ]
     },
     "metadata": {
      "needs_background": "light"
     },
     "output_type": "display_data"
    }
   ],
   "source": [
    "# Create a black image\n",
    "img = np.full((600, 1200, 3), 255, np.uint8)\n",
    "\n",
    "obs = []\n",
    "# draw obstacles\n",
    "for ob in obstacles:\n",
    "    ob = map2img(ob)\n",
    "    obs.append(ob)\n",
    "    # print(len(ob))\n",
    "    # print(ob)\n",
    "    cv2.fillConvexPoly(img, ob.reshape(-1, 1, 2), (255,255,0))\n",
    "\n",
    "# draw start and goal point\n",
    "goal_img = tuple(map2img([goal])[0])\n",
    "start_img = tuple(map2img([start])[0])\n",
    "circ1 = cv2.circle(img, goal_img, 7, (100, 0, 0), -1)\n",
    "circ2 = cv2.circle(img, start_img, 7, (0, 0, 100), -1)\n",
    "\n",
    "fig = plt.figure(figsize=(20, 20))\n",
    "ax = plt.imshow(cv2.cvtColor(img, cv2.COLOR_BGR2RGB))"
   ]
  },
  {
   "cell_type": "code",
   "execution_count": 116,
   "metadata": {},
   "outputs": [
    {
     "data": {
      "text/plain": [
       "[<matplotlib.lines.Line2D at 0x82c7dab90>]"
      ]
     },
     "execution_count": 116,
     "metadata": {},
     "output_type": "execute_result"
    },
    {
     "data": {
      "image/png": "[encoded data removed]",
      "text/plain": [
       "<Figure size 432x288 with 1 Axes>"
      ]
     },
     "metadata": {
      "needs_background": "light"
     },
     "output_type": "display_data"
    }
   ],
   "source": [
    "boundary_points = hulls[0].points[hulls[0].vertices]\n",
    "plt.plot(boundary_points[:,0], boundary_points[:,1], 'ko')"
   ]
  },
  {
   "cell_type": "code",
   "execution_count": 112,
   "metadata": {},
   "outputs": [
    {
     "data": {
      "text/plain": [
       "array([168., 118.,  82.,  82., 168.])"
      ]
     },
     "execution_count": 112,
     "metadata": {},
     "output_type": "execute_result"
    }
   ],
   "source": [
    "a"
   ]
  },
  {
   "cell_type": "code",
   "execution_count": 117,
   "metadata": {},
   "outputs": [
    {
     "data": {
      "text/plain": [
       "array([[   0.70710678,    0.70710678, -131.5218613 ],\n",
       "       [  -0.        ,   -1.        ,  -18.        ],\n",
       "       [   1.        ,    0.        , -168.        ],\n",
       "       [  -1.        ,    0.        ,   82.        ],\n",
       "       [  -0.        ,    1.        ,  -68.        ]])"
      ]
     },
     "execution_count": 117,
     "metadata": {},
     "output_type": "execute_result"
    }
   ],
   "source": [
    "hulls[0].equations"
   ]
  },
  {
   "cell_type": "code",
   "execution_count": 107,
   "metadata": {},
   "outputs": [
    {
     "data": {
      "text/plain": [
       "array([12,  7,  9,  1, 13], dtype=int32)"
      ]
     },
     "execution_count": 107,
     "metadata": {},
     "output_type": "execute_result"
    }
   ],
   "source": [
    "hulls[0].vertices"
   ]
  },
  {
   "cell_type": "code",
   "execution_count": null,
   "metadata": {},
   "outputs": [],
   "source": []
  }
 ],
 "metadata": {
  "kernelspec": {
   "display_name": "homeworks",
   "language": "python",
   "name": "homeworks"
  },
  "language_info": {
   "codemirror_mode": {
    "name": "ipython",
    "version": 3
   },
   "file_extension": ".py",
   "mimetype": "text/x-python",
   "name": "python",
   "nbconvert_exporter": "python",
   "pygments_lexer": "ipython3",
   "version": "3.7.4"
  }
 },
 "nbformat": 4,
 "nbformat_minor": 4
}
