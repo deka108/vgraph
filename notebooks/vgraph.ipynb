{
 "cells": [
  {
   "cell_type": "code",
   "execution_count": 108,
   "metadata": {},
   "outputs": [],
   "source": [
    "import cv2\n",
    "import heapq\n",
    "import itertools\n",
    "import matplotlib.pyplot as plt\n",
    "import numpy as np\n",
    "import os\n",
    "import sys\n",
    "\n",
    "from scipy.spatial import ConvexHull, convex_hull_plot_2d\n",
    "\n",
    "module_path = os.path.abspath(os.path.join('..'))\n",
    "if module_path not in sys.path:\n",
    "    sys.path.append(module_path)"
   ]
  },
  {
   "cell_type": "code",
   "execution_count": 109,
   "metadata": {},
   "outputs": [],
   "source": [
    "from src import create_map\n",
    "from src.create_map import load_obstacles\n",
    "from src.create_map import load_goal\n",
    "from src.create_map import map2img"
   ]
  },
  {
   "cell_type": "code",
   "execution_count": 110,
   "metadata": {},
   "outputs": [],
   "source": [
    "class Edge(object):\n",
    "    def __init__(self, point, weight):\n",
    "        self.point = point\n",
    "        self.weight = weight\n",
    "    \n",
    "    def __repr__(self):\n",
    "        return \"Edge({}, {})\".format(self.point, self.weight)"
   ]
  },
  {
   "cell_type": "code",
   "execution_count": 111,
   "metadata": {},
   "outputs": [],
   "source": [
    "class Point(object):\n",
    "    def __init__(self, x=None, y=None):\n",
    "        self.x = x\n",
    "        self.y = y\n",
    "        self.id = '{},{}'.format(self.x, self.y)\n",
    "        self.edges = {}\n",
    "        self.cost = float(\"inf\")\n",
    "        self.parent = None\n",
    "        self.visited = False\n",
    "    \n",
    "    def add_edge(self, point):\n",
    "        if point.id not in self.edges:\n",
    "            weight = np.sqrt((point.x - self.x)**2 + (point.y - self.y)**2)\n",
    "            self.edges[point.id] = Edge(point, weight)\n",
    "\n",
    "    def __repr__(self):\n",
    "        return \"Point(x={}, y={})\".format(self.x, self.y)\n",
    "\n",
    "    def __lt__(self, point):\n",
    "        return (self.cost < point.cost)\n",
    "    \n",
    "    def __le__(self, point):\n",
    "        return self.cost <= point.cost\n",
    "    \n",
    "    def __gt__(self, point):\n",
    "        return self.cost > point.cost\n",
    "    \n",
    "    def __ge__(self, point):\n",
    "        return self.cost >= point.cost\n",
    "    \n",
    "    def __eq__(self, point):\n",
    "        return self.cost == point.cost\n",
    "    \n",
    "    def __neq__(self, point):\n",
    "        return self.cost != point.cost"
   ]
  },
  {
   "cell_type": "code",
   "execution_count": 112,
   "metadata": {},
   "outputs": [
    {
     "data": {
      "text/plain": [
       "Point(x=0, y=0)"
      ]
     },
     "execution_count": 112,
     "metadata": {},
     "output_type": "execute_result"
    }
   ],
   "source": [
    "point1 = Point(0, 0)\n",
    "point1.add_edge(Point(1, 1))\n",
    "point1"
   ]
  },
  {
   "cell_type": "code",
   "execution_count": 113,
   "metadata": {},
   "outputs": [],
   "source": [
    "point2 = Point(1, 1)"
   ]
  },
  {
   "cell_type": "code",
   "execution_count": 114,
   "metadata": {},
   "outputs": [],
   "source": [
    "obstacles = load_obstacles(\"../data/world_obstacles.txt\")"
   ]
  },
  {
   "cell_type": "code",
   "execution_count": 115,
   "metadata": {},
   "outputs": [],
   "source": [
    "# The map we use in RViz is 1200cm by 600cm, \n",
    "# top left and bottom right are (-300, 300) and (900, -300) respectively. \n",
    "\n",
    "# Also note that cells in the RViz grid are 50cm by 50cm, \n",
    "# The start position of the robot is always at (0, 0), \n",
    "# facing x-positive and the goal is defined in data/goal.txt. \n",
    "# assume the robot to be a 36cm-by-36cm square\n",
    "\n",
    "# The obstacles are orange polygons and the goal is a purple dot. \n",
    "\n",
    "# More about using the map_server package here.\n",
    "\n",
    "# robot to be a 36cm-by-36cm square."
   ]
  },
  {
   "cell_type": "code",
   "execution_count": 116,
   "metadata": {},
   "outputs": [],
   "source": [
    "# for each obstacle, generate four squares which adds the padding of 18 - 18 to each point of the obstacle"
   ]
  },
  {
   "cell_type": "code",
   "execution_count": 117,
   "metadata": {},
   "outputs": [
    {
     "data": {
      "text/plain": [
       "[[[100, 0], [100, 50], [150, 0]],\n",
       " [[225, 25], [275, 25], [325, -25], [275, -75]],\n",
       " [[450, 30], [450, 130], [525, 130], [525, 30]],\n",
       " [[400, -50], [400, -100], [425, -50]],\n",
       " [[300, 100], [300, 150], [350, 150], [350, 100]]]"
      ]
     },
     "execution_count": 117,
     "metadata": {},
     "output_type": "execute_result"
    }
   ],
   "source": [
    "obstacles"
   ]
  },
  {
   "cell_type": "code",
   "execution_count": 118,
   "metadata": {},
   "outputs": [],
   "source": [
    "goal = load_goal(\"../data/goal.txt\")"
   ]
  },
  {
   "cell_type": "code",
   "execution_count": 119,
   "metadata": {},
   "outputs": [],
   "source": [
    "start = [0, 0]"
   ]
  },
  {
   "cell_type": "markdown",
   "metadata": {},
   "source": [
    "## expand obstacles and convex hull"
   ]
  },
  {
   "cell_type": "code",
   "execution_count": 120,
   "metadata": {},
   "outputs": [],
   "source": [
    "# get expanded obstacles\n",
    "hulls = []\n",
    "temp_obstacles = []\n",
    "grown_obstacles = []\n",
    "padded_simplices = []\n",
    "for obstacle in obstacles:\n",
    "    expanded_obstacles = []\n",
    "    for point in obstacle:\n",
    "        expanded_obstacles.append(point)\n",
    "        expanded_obstacles.append([point[0] - 18, point[1] - 18])\n",
    "        expanded_obstacles.append([point[0] + 18, point[1] + 18])\n",
    "        expanded_obstacles.append([point[0] + 18, point[1] - 18])\n",
    "        expanded_obstacles.append([point[0] - 18, point[1] + 18])\n",
    "    expanded_obstacles = np.array(expanded_obstacles)\n",
    "    temp_obstacles.append(expanded_obstacles)\n",
    "    hull = ConvexHull(expanded_obstacles)\n",
    "    \n",
    "    x = expanded_obstacles[hull.vertices, 0]\n",
    "    y = expanded_obstacles[hull.vertices, 1]\n",
    "    points = np.stack((x, y), axis=-1)\n",
    "    grown_obstacles.append(points)\n",
    "    \n",
    "    simplices = np.stack((expanded_obstacles[hull.simplices, 0], \n",
    "                          expanded_obstacles[hull.simplices, 1]), \n",
    "                         axis=1)\n",
    "    padded_simplices.append(simplices)\n",
    "    \n",
    "    hulls.append(hull)"
   ]
  },
  {
   "cell_type": "markdown",
   "metadata": {},
   "source": [
    "### draw the convex hull of the grown obstacles"
   ]
  },
  {
   "cell_type": "code",
   "execution_count": 121,
   "metadata": {},
   "outputs": [
    {
     "data": {
      "text/plain": [
       "[<matplotlib.lines.Line2D at 0x81d2a0510>]"
      ]
     },
     "execution_count": 121,
     "metadata": {},
     "output_type": "execute_result"
    },
    {
     "data": {
      "image/png": "[encoded data removed]",
      "text/plain": [
       "<Figure size 432x288 with 1 Axes>"
      ]
     },
     "metadata": {
      "needs_background": "light"
     },
     "output_type": "display_data"
    }
   ],
   "source": [
    "plt.plot(start[0], start[1], 'or')\n",
    "\n",
    "for idx, obstacle in enumerate(obstacles):\n",
    "    x = [point[0] for point in obstacle]\n",
    "    y = [point[1] for point in obstacle]\n",
    "    x.append(obstacle[0][0])\n",
    "    y.append(obstacle[0][1])\n",
    "    \n",
    "    plt.plot(x, y, 'r-')\n",
    "\n",
    "for obstacle in grown_obstacles:\n",
    "    x = obstacle[:,0]\n",
    "    y = obstacle[:,1]\n",
    "    x = np.append(x, x[0])\n",
    "    y = np.append(y, y[0])\n",
    "    plt.plot(x, y, '--k')\n",
    "\n",
    "plt.plot(goal[0], goal[1], 'ob')"
   ]
  },
  {
   "cell_type": "code",
   "execution_count": 122,
   "metadata": {},
   "outputs": [
    {
     "data": {
      "text/plain": [
       "[<matplotlib.lines.Line2D at 0x81d36c7d0>]"
      ]
     },
     "execution_count": 122,
     "metadata": {},
     "output_type": "execute_result"
    },
    {
     "data": {
      "image/png": "[encoded data removed]",
      "text/plain": [
       "<Figure size 432x288 with 1 Axes>"
      ]
     },
     "metadata": {
      "needs_background": "light"
     },
     "output_type": "display_data"
    }
   ],
   "source": [
    "plt.plot(start[0], start[1], 'or')\n",
    "\n",
    "for idx, obstacle in enumerate(obstacles):\n",
    "    x = [point[0] for point in obstacle]\n",
    "    y = [point[1] for point in obstacle]\n",
    "    x.append(obstacle[0][0])\n",
    "    y.append(obstacle[0][1])\n",
    "    \n",
    "    plt.plot(x, y, 'r-')\n",
    "\n",
    "for idx, simplices in enumerate(padded_simplices):\n",
    "    for simplex in simplices:\n",
    "        plt.plot(simplex[0], simplex[1], 'k-')\n",
    "plt.plot(goal[0], goal[1], 'ob')"
   ]
  },
  {
   "cell_type": "code",
   "execution_count": 123,
   "metadata": {},
   "outputs": [],
   "source": [
    "# for collision detection: checking if line segments intersect\n",
    "\n",
    "class Direction:\n",
    "    CLOCKWISE = 0\n",
    "    ANTI_CLOCKWISE = 1\n",
    "    COLINEAR = 2\n",
    "    \n",
    "EPSILON = 0\n",
    "\n",
    "def point_lie_on_segment(point1, point2, point3, epsilon=EPSILON):\n",
    "    if min(point1.x, point2.x) - epsilon <= point3.x <= max(point1.x, point2.x) + epsilon and \\\n",
    "        min(point1.y, point2.y) - epsilon <= point3.y <= max(point1.y, point2.y) + epsilon :\n",
    "        return True\n",
    "    return False\n",
    "\n",
    "def compute_orientation(point1, point2, point3, epsilon=EPSILON):\n",
    "    cross_product = (point2.y - point1.y) * (point3.x - point2.x) -  (point2.x - point1.x) * (point3.y - point2.y)\n",
    "    \n",
    "    if abs(cross_product) <= epsilon:\n",
    "        return Direction.COLINEAR\n",
    "    elif cross_product > 0:\n",
    "        return Direction.CLOCKWISE\n",
    "    elif cross_product < 0:\n",
    "        return Direction.ANTI_CLOCKWISE\n",
    "\n",
    "def segment_intersect(point1, point2, point3, point4, epsilon = EPSILON):\n",
    "    orientation1 = compute_orientation(point1, point2, point3)\n",
    "    orientation2 = compute_orientation(point1, point2, point4)\n",
    "    orientation3 = compute_orientation(point3, point4, point1)\n",
    "    orientation4 = compute_orientation(point3, point4, point2)\n",
    "    \n",
    "    if orientation1 != orientation2 and orientation3 != orientation4:\n",
    "        return True\n",
    "    \n",
    "    if orientation1 == Direction.COLINEAR and  point_lie_on_segment(point1, point2, point3, epsilon):\n",
    "        return True\n",
    "    \n",
    "    if orientation2 == Direction.COLINEAR and point_lie_on_segment(point1, point2, point4, epsilon):\n",
    "        return True\n",
    "\n",
    "    if orientation3 == Direction.COLINEAR and point_lie_on_segment(point3, point4, point1, epsilon):\n",
    "        return True\n",
    "    \n",
    "    if orientation4 == Direction.COLINEAR and point_lie_on_segment(point3, point4, point2, epsilon):\n",
    "        return True\n",
    "    \n",
    "    return False"
   ]
  },
  {
   "cell_type": "code",
   "execution_count": 124,
   "metadata": {},
   "outputs": [
    {
     "data": {
      "text/plain": [
       "[0, 0]"
      ]
     },
     "execution_count": 124,
     "metadata": {},
     "output_type": "execute_result"
    }
   ],
   "source": [
    "start"
   ]
  },
  {
   "cell_type": "code",
   "execution_count": 125,
   "metadata": {},
   "outputs": [
    {
     "data": {
      "text/plain": [
       "[600, 0]"
      ]
     },
     "execution_count": 125,
     "metadata": {},
     "output_type": "execute_result"
    }
   ],
   "source": [
    "goal"
   ]
  },
  {
   "cell_type": "markdown",
   "metadata": {},
   "source": [
    "## vgraph\n",
    "\n",
    "### Algo:\n",
    "0. Data preprocessing: convert points into a better data structure, define a line segment (point1, point2)\n",
    "1. compute line segment that are the boundary edge of each obstacle\n",
    "2. connect the points, from start point to every point in convex hull and goal and from every point of convex hull to other points in other convex hulls and goal\n",
    "3. remove unseen lines, by removing the edges that intersect with a convex hull edge"
   ]
  },
  {
   "cell_type": "code",
   "execution_count": 126,
   "metadata": {},
   "outputs": [],
   "source": [
    "# convert all the start and goal into Point(x, y)\n",
    "start_point = Point(*start)\n",
    "goal_point = Point(*goal)"
   ]
  },
  {
   "cell_type": "code",
   "execution_count": 127,
   "metadata": {},
   "outputs": [
    {
     "data": {
      "text/plain": [
       "[[Point(x=168, y=18),\n",
       "  Point(x=118, y=68),\n",
       "  Point(x=82, y=68),\n",
       "  Point(x=82, y=-18),\n",
       "  Point(x=168, y=-18)],\n",
       " [Point(x=207, y=7),\n",
       "  Point(x=257, y=-93),\n",
       "  Point(x=293, y=-93),\n",
       "  Point(x=343, y=-43),\n",
       "  Point(x=343, y=-7),\n",
       "  Point(x=293, y=43),\n",
       "  Point(x=207, y=43)],\n",
       " [Point(x=432, y=12),\n",
       "  Point(x=543, y=12),\n",
       "  Point(x=543, y=148),\n",
       "  Point(x=432, y=148)],\n",
       " [Point(x=443, y=-32),\n",
       "  Point(x=382, y=-32),\n",
       "  Point(x=382, y=-118),\n",
       "  Point(x=418, y=-118),\n",
       "  Point(x=443, y=-68)],\n",
       " [Point(x=282, y=82),\n",
       "  Point(x=368, y=82),\n",
       "  Point(x=368, y=168),\n",
       "  Point(x=282, y=168)]]"
      ]
     },
     "execution_count": 127,
     "metadata": {},
     "output_type": "execute_result"
    }
   ],
   "source": [
    "# convert all the obstacles into Point(x, y)\n",
    "obstacle_points = []\n",
    "for obs in grown_obstacles:\n",
    "    obs_points = []\n",
    "    for point in obs:\n",
    "        obs_points.append(Point(*point))\n",
    "    obstacle_points.append(obs_points)\n",
    "obstacle_points"
   ]
  },
  {
   "cell_type": "code",
   "execution_count": 128,
   "metadata": {},
   "outputs": [
    {
     "data": {
      "text/plain": [
       "[[(Point(x=168, y=18), Point(x=118, y=68)),\n",
       "  (Point(x=118, y=68), Point(x=82, y=68)),\n",
       "  (Point(x=82, y=68), Point(x=82, y=-18)),\n",
       "  (Point(x=82, y=-18), Point(x=168, y=-18)),\n",
       "  (Point(x=168, y=-18), Point(x=168, y=18))],\n",
       " [(Point(x=207, y=7), Point(x=257, y=-93)),\n",
       "  (Point(x=257, y=-93), Point(x=293, y=-93)),\n",
       "  (Point(x=293, y=-93), Point(x=343, y=-43)),\n",
       "  (Point(x=343, y=-43), Point(x=343, y=-7)),\n",
       "  (Point(x=343, y=-7), Point(x=293, y=43)),\n",
       "  (Point(x=293, y=43), Point(x=207, y=43)),\n",
       "  (Point(x=207, y=43), Point(x=207, y=7))],\n",
       " [(Point(x=432, y=12), Point(x=543, y=12)),\n",
       "  (Point(x=543, y=12), Point(x=543, y=148)),\n",
       "  (Point(x=543, y=148), Point(x=432, y=148)),\n",
       "  (Point(x=432, y=148), Point(x=432, y=12))],\n",
       " [(Point(x=443, y=-32), Point(x=382, y=-32)),\n",
       "  (Point(x=382, y=-32), Point(x=382, y=-118)),\n",
       "  (Point(x=382, y=-118), Point(x=418, y=-118)),\n",
       "  (Point(x=418, y=-118), Point(x=443, y=-68)),\n",
       "  (Point(x=443, y=-68), Point(x=443, y=-32))],\n",
       " [(Point(x=282, y=82), Point(x=368, y=82)),\n",
       "  (Point(x=368, y=82), Point(x=368, y=168)),\n",
       "  (Point(x=368, y=168), Point(x=282, y=168)),\n",
       "  (Point(x=282, y=168), Point(x=282, y=82))]]"
      ]
     },
     "execution_count": 128,
     "metadata": {},
     "output_type": "execute_result"
    }
   ],
   "source": [
    "# computing line segments for each padded obstacle edges\n",
    "obstacle_edges = []\n",
    "\n",
    "# iterate for every obstacle point collections\n",
    "for obs in obstacle_points:\n",
    "    obs_point_segments = [(obs[i], obs[i+1]) for i in range(len(obs) - 1) ]\n",
    "    if len(obs) > 2:\n",
    "        obs_point_segments.append((obs[-1], obs[0]))\n",
    "    obstacle_edges.append(obs_point_segments)\n",
    "obstacle_edges"
   ]
  },
  {
   "cell_type": "markdown",
   "metadata": {},
   "source": [
    "### Removing unseen lines\n",
    "\n",
    "To remove a non-visible line, we compare two line segments and check if they intersect with an edge that lie on a obstacle boundary."
   ]
  },
  {
   "cell_type": "code",
   "execution_count": 129,
   "metadata": {},
   "outputs": [],
   "source": [
    "def extract_non_intersecting_lines(candidate_segments, obstacle_segments):\n",
    "    lines_not_intersect = []\n",
    "    for idx1, can_segment in enumerate(candidate_segments):\n",
    "        intersect = False\n",
    "\n",
    "        for obs_segment in obstacle_segments:\n",
    "            # skip checks if the start/end point of a candiate point is the same as the start/end of an obstacle segment\n",
    "            if point_lie_on_segment(obs_segment[0], obs_segment[1], can_segment[0]):\n",
    "                continue\n",
    "            \n",
    "            if point_lie_on_segment(obs_segment[0], obs_segment[1], can_segment[1]):\n",
    "                continue\n",
    "\n",
    "            intersect = segment_intersect(*can_segment, *obs_segment)\n",
    "            if intersect:\n",
    "                break\n",
    "\n",
    "        if not intersect:\n",
    "            lines_not_intersect.append(can_segment)\n",
    "\n",
    "    return lines_not_intersect"
   ]
  },
  {
   "cell_type": "code",
   "execution_count": 130,
   "metadata": {},
   "outputs": [],
   "source": [
    "# combine all the segments of the obstacles\n",
    "obstacle_segments = list(itertools.chain.from_iterable(obstacle_edges))"
   ]
  },
  {
   "cell_type": "code",
   "execution_count": 131,
   "metadata": {},
   "outputs": [
    {
     "data": {
      "text/plain": [
       "[[Point(x=0, y=0)],\n",
       " [Point(x=168, y=18),\n",
       "  Point(x=118, y=68),\n",
       "  Point(x=82, y=68),\n",
       "  Point(x=82, y=-18),\n",
       "  Point(x=168, y=-18)],\n",
       " [Point(x=207, y=7),\n",
       "  Point(x=257, y=-93),\n",
       "  Point(x=293, y=-93),\n",
       "  Point(x=343, y=-43),\n",
       "  Point(x=343, y=-7),\n",
       "  Point(x=293, y=43),\n",
       "  Point(x=207, y=43)],\n",
       " [Point(x=432, y=12),\n",
       "  Point(x=543, y=12),\n",
       "  Point(x=543, y=148),\n",
       "  Point(x=432, y=148)],\n",
       " [Point(x=443, y=-32),\n",
       "  Point(x=382, y=-32),\n",
       "  Point(x=382, y=-118),\n",
       "  Point(x=418, y=-118),\n",
       "  Point(x=443, y=-68)],\n",
       " [Point(x=282, y=82),\n",
       "  Point(x=368, y=82),\n",
       "  Point(x=368, y=168),\n",
       "  Point(x=282, y=168)],\n",
       " [Point(x=600, y=0)]]"
      ]
     },
     "execution_count": 131,
     "metadata": {},
     "output_type": "execute_result"
    }
   ],
   "source": [
    "# combine all the possible points to create a total graph\n",
    "all_points = [[start_point]] + obstacle_points + [[goal_point]]\n",
    "all_points"
   ]
  },
  {
   "cell_type": "code",
   "execution_count": 132,
   "metadata": {},
   "outputs": [
    {
     "data": {
      "text/plain": [
       "[[(Point(x=0, y=0), Point(x=82, y=68)),\n",
       "  (Point(x=0, y=0), Point(x=82, y=-18)),\n",
       "  (Point(x=0, y=0), Point(x=257, y=-93))],\n",
       " [(Point(x=168, y=18), Point(x=207, y=7)),\n",
       "  (Point(x=168, y=18), Point(x=257, y=-93)),\n",
       "  (Point(x=168, y=18), Point(x=207, y=43)),\n",
       "  (Point(x=168, y=18), Point(x=282, y=168))],\n",
       " [(Point(x=118, y=68), Point(x=207, y=7)),\n",
       "  (Point(x=118, y=68), Point(x=293, y=43)),\n",
       "  (Point(x=118, y=68), Point(x=207, y=43)),\n",
       "  (Point(x=118, y=68), Point(x=282, y=82)),\n",
       "  (Point(x=118, y=68), Point(x=368, y=82)),\n",
       "  (Point(x=118, y=68), Point(x=282, y=168))],\n",
       " [(Point(x=82, y=68), Point(x=282, y=82)),\n",
       "  (Point(x=82, y=68), Point(x=368, y=82)),\n",
       "  (Point(x=82, y=68), Point(x=282, y=168))],\n",
       " [(Point(x=82, y=-18), Point(x=257, y=-93))],\n",
       " [(Point(x=168, y=-18), Point(x=207, y=7)),\n",
       "  (Point(x=168, y=-18), Point(x=257, y=-93)),\n",
       "  (Point(x=168, y=-18), Point(x=207, y=43)),\n",
       "  (Point(x=168, y=-18), Point(x=282, y=168))],\n",
       " [],\n",
       " [(Point(x=257, y=-93), Point(x=382, y=-118))],\n",
       " [(Point(x=293, y=-93), Point(x=432, y=12)),\n",
       "  (Point(x=293, y=-93), Point(x=382, y=-32)),\n",
       "  (Point(x=293, y=-93), Point(x=382, y=-118))],\n",
       " [(Point(x=343, y=-43), Point(x=432, y=12)),\n",
       "  (Point(x=343, y=-43), Point(x=432, y=148)),\n",
       "  (Point(x=343, y=-43), Point(x=382, y=-32)),\n",
       "  (Point(x=343, y=-43), Point(x=382, y=-118)),\n",
       "  (Point(x=343, y=-43), Point(x=368, y=82))],\n",
       " [(Point(x=343, y=-7), Point(x=432, y=12)),\n",
       "  (Point(x=343, y=-7), Point(x=543, y=12)),\n",
       "  (Point(x=343, y=-7), Point(x=432, y=148)),\n",
       "  (Point(x=343, y=-7), Point(x=443, y=-32)),\n",
       "  (Point(x=343, y=-7), Point(x=382, y=-32)),\n",
       "  (Point(x=343, y=-7), Point(x=382, y=-118)),\n",
       "  (Point(x=343, y=-7), Point(x=282, y=82)),\n",
       "  (Point(x=343, y=-7), Point(x=368, y=82)),\n",
       "  (Point(x=343, y=-7), Point(x=600, y=0))],\n",
       " [(Point(x=293, y=43), Point(x=432, y=12)),\n",
       "  (Point(x=293, y=43), Point(x=443, y=-32)),\n",
       "  (Point(x=293, y=43), Point(x=382, y=-32)),\n",
       "  (Point(x=293, y=43), Point(x=282, y=82)),\n",
       "  (Point(x=293, y=43), Point(x=368, y=82))],\n",
       " [(Point(x=207, y=43), Point(x=282, y=82)),\n",
       "  (Point(x=207, y=43), Point(x=368, y=82)),\n",
       "  (Point(x=207, y=43), Point(x=282, y=168))],\n",
       " [(Point(x=432, y=12), Point(x=443, y=-32)),\n",
       "  (Point(x=432, y=12), Point(x=382, y=-32)),\n",
       "  (Point(x=432, y=12), Point(x=282, y=82)),\n",
       "  (Point(x=432, y=12), Point(x=368, y=82)),\n",
       "  (Point(x=432, y=12), Point(x=368, y=168)),\n",
       "  (Point(x=432, y=12), Point(x=600, y=0))],\n",
       " [(Point(x=543, y=12), Point(x=443, y=-32)),\n",
       "  (Point(x=543, y=12), Point(x=382, y=-32)),\n",
       "  (Point(x=543, y=12), Point(x=418, y=-118)),\n",
       "  (Point(x=543, y=12), Point(x=443, y=-68)),\n",
       "  (Point(x=543, y=12), Point(x=600, y=0))],\n",
       " [(Point(x=543, y=148), Point(x=368, y=168)),\n",
       "  (Point(x=543, y=148), Point(x=600, y=0))],\n",
       " [(Point(x=432, y=148), Point(x=382, y=-32)),\n",
       "  (Point(x=432, y=148), Point(x=368, y=82)),\n",
       "  (Point(x=432, y=148), Point(x=368, y=168))],\n",
       " [(Point(x=443, y=-32), Point(x=282, y=82)),\n",
       "  (Point(x=443, y=-32), Point(x=368, y=82)),\n",
       "  (Point(x=443, y=-32), Point(x=368, y=168)),\n",
       "  (Point(x=443, y=-32), Point(x=600, y=0))],\n",
       " [(Point(x=382, y=-32), Point(x=282, y=82)),\n",
       "  (Point(x=382, y=-32), Point(x=368, y=82)),\n",
       "  (Point(x=382, y=-32), Point(x=368, y=168)),\n",
       "  (Point(x=382, y=-32), Point(x=600, y=0))],\n",
       " [(Point(x=382, y=-118), Point(x=368, y=82)),\n",
       "  (Point(x=382, y=-118), Point(x=368, y=168))],\n",
       " [(Point(x=418, y=-118), Point(x=600, y=0))],\n",
       " [(Point(x=443, y=-68), Point(x=600, y=0))],\n",
       " [],\n",
       " [],\n",
       " [],\n",
       " [],\n",
       " []]"
      ]
     },
     "execution_count": 132,
     "metadata": {},
     "output_type": "execute_result"
    }
   ],
   "source": [
    "# get all the non-collision segments\n",
    "all_free_segments = []\n",
    "\n",
    "for i, points in enumerate(all_points):\n",
    "    for point in points:\n",
    "        other_points = [all_points[j] for j in range(i+1, len(all_points))]\n",
    "        other_points = list(itertools.chain.from_iterable(other_points))\n",
    "        candidate_segments = [(point, other_point) for other_point in other_points ]\n",
    "        free_segments = extract_non_intersecting_lines(candidate_segments, obstacle_segments)\n",
    "        all_free_segments.append(free_segments)\n",
    "        \n",
    "all_free_segments"
   ]
  },
  {
   "cell_type": "markdown",
   "metadata": {},
   "source": [
    "## Creating a Graph\n",
    "\n",
    "Convert the visible segments into a graph structure. Since graph is an undirected graph, we connect it both ways: the start point and the end point should be the edges of each other\n",
    "\n",
    "Algo:\n",
    "1. iterate through all the node point\n",
    "2. if node already in the graph, retrieve it. if node is not in the graph, add the node to the graph, then retrieve it.\n",
    "3. add the segment node pair into the edges of the retrieved node and vice versa"
   ]
  },
  {
   "cell_type": "code",
   "execution_count": 133,
   "metadata": {},
   "outputs": [
    {
     "data": {
      "text/plain": [
       "{'82,68': Edge(Point(x=82, y=68), 106.5269918846862),\n",
       " '82,-18': Edge(Point(x=82, y=-18), 83.95236744726142),\n",
       " '257,-93': Edge(Point(x=257, y=-93), 273.3093485411723)}"
      ]
     },
     "execution_count": 133,
     "metadata": {},
     "output_type": "execute_result"
    }
   ],
   "source": [
    "# reduce line segments into point in graph\n",
    "graph = dict()\n",
    "\n",
    "for free_segments in all_free_segments:\n",
    "    for segment in free_segments:\n",
    "        point1, point2 = segment[0], segment[1]\n",
    "        point1 = graph.setdefault(point1.id, point1)\n",
    "        point2 = graph.setdefault(point2.id, point2)\n",
    "        point1.add_edge(point2)\n",
    "        point2.add_edge(point1)\n",
    "\n",
    "graph[start_point.id].edges"
   ]
  },
  {
   "cell_type": "markdown",
   "metadata": {},
   "source": [
    "## djikstra"
   ]
  },
  {
   "cell_type": "code",
   "execution_count": 134,
   "metadata": {},
   "outputs": [
    {
     "data": {
      "text/plain": [
       "0"
      ]
     },
     "execution_count": 134,
     "metadata": {},
     "output_type": "execute_result"
    }
   ],
   "source": [
    "queue = [start_point]\n",
    "np.argpartition(queue, 0)[0]"
   ]
  },
  {
   "cell_type": "code",
   "execution_count": 148,
   "metadata": {},
   "outputs": [],
   "source": [
    "def get_element_index(arr, node):\n",
    "    for i in range(len(arr)):\n",
    "        if arr[i].id == node.id:\n",
    "            return i"
   ]
  },
  {
   "cell_type": "code",
   "execution_count": 149,
   "metadata": {},
   "outputs": [
    {
     "name": "stdout",
     "output_type": "stream",
     "text": [
      "We reached the goal!\n",
      "[Point(x=0, y=0), Point(x=82, y=68), Point(x=282, y=82), Point(x=432, y=12), Point(x=600, y=0)]\n"
     ]
    }
   ],
   "source": [
    "# initialize the data structures\n",
    "for _, node in graph.items():\n",
    "    node.cost = float(\"inf\")\n",
    "    node.parent = None\n",
    "    node.visited = False\n",
    "\n",
    "queue = []   \n",
    "start_point.cost = 0\n",
    "queue.append(start_point)\n",
    "# heapq.heappush(queue, start_point)\n",
    "\n",
    "goal_is_found = False\n",
    "\n",
    "while len(queue) != 0:\n",
    "    cur_node_idx = np.argpartition(queue, 0)[0]\n",
    "    cur_node = queue[cur_node_idx]\n",
    "    del queue[cur_node_idx]\n",
    "    \n",
    "#     cur_node = heapq.heappop(queue)\n",
    "    cur_node.visited = True\n",
    "    \n",
    "    if cur_node.id == goal_point.id:\n",
    "        print(\"We reached the goal!\")\n",
    "        goal_is_found = True\n",
    "#         break\n",
    "    \n",
    "    for _, edge in cur_node.edges.items():\n",
    "#         if not edge.point.visited:\n",
    "        # update distance\n",
    "        if not edge.point.visited and edge.point.cost > edge.weight + cur_node.cost:\n",
    "            edge.point.cost = edge.weight + cur_node.cost\n",
    "            edge.point.parent = cur_node\n",
    "                \n",
    "            idx = get_element_index(queue, edge.point)\n",
    "            if idx is not None:\n",
    "                del queue[idx]\n",
    "            \n",
    "            queue.append(edge.point)\n",
    "#             heapq.heappush(queue, edge.point)\n",
    "\n",
    "# if goal is found, there's a path\n",
    "path_to_goal = []\n",
    "# back track, to the start node\n",
    "if goal_is_found:\n",
    "    path_to_goal.append(goal_point)\n",
    "    while path_to_goal[0].id != start_point.id:\n",
    "        path_to_goal.insert(0, path_to_goal[0].parent)\n",
    "\n",
    "print(path_to_goal)"
   ]
  },
  {
   "cell_type": "code",
   "execution_count": 150,
   "metadata": {},
   "outputs": [
    {
     "data": {
      "text/plain": [
       "106.5269918846862"
      ]
     },
     "execution_count": 150,
     "metadata": {},
     "output_type": "execute_result"
    }
   ],
   "source": [
    "np.sqrt(82**2 + 68**2)"
   ]
  },
  {
   "cell_type": "code",
   "execution_count": 151,
   "metadata": {},
   "outputs": [
    {
     "data": {
      "text/plain": [
       "{'0,0': Edge(Point(x=0, y=0), 106.5269918846862),\n",
       " '282,82': Edge(Point(x=282, y=82), 200.48940121612415),\n",
       " '368,82': Edge(Point(x=368, y=82), 286.34245231889736),\n",
       " '282,168': Edge(Point(x=282, y=168), 223.60679774997897)}"
      ]
     },
     "execution_count": 151,
     "metadata": {},
     "output_type": "execute_result"
    }
   ],
   "source": [
    "path_to_goal[1].edges"
   ]
  },
  {
   "cell_type": "code",
   "execution_count": 152,
   "metadata": {},
   "outputs": [
    {
     "name": "stdout",
     "output_type": "stream",
     "text": [
      "106.5269918846862\n"
     ]
    }
   ],
   "source": [
    "print(path_to_goal[1].cost)"
   ]
  },
  {
   "cell_type": "code",
   "execution_count": 153,
   "metadata": {},
   "outputs": [
    {
     "data": {
      "text/plain": [
       "307.0163931008103"
      ]
     },
     "execution_count": 153,
     "metadata": {},
     "output_type": "execute_result"
    }
   ],
   "source": [
    "path_to_goal[2].cost"
   ]
  },
  {
   "cell_type": "code",
   "execution_count": 154,
   "metadata": {},
   "outputs": [
    {
     "data": {
      "text/plain": [
       "{'293,-93': Edge(Point(x=293, y=-93), 174.20103329199858),\n",
       " '343,-43': Edge(Point(x=343, y=-43), 104.62313319720452),\n",
       " '343,-7': Edge(Point(x=343, y=-7), 91.00549433962765),\n",
       " '293,43': Edge(Point(x=293, y=43), 142.414886862294),\n",
       " '443,-32': Edge(Point(x=443, y=-32), 45.35416188179427),\n",
       " '382,-32': Edge(Point(x=382, y=-32), 66.60330322138685),\n",
       " '282,82': Edge(Point(x=282, y=82), 165.5294535724685),\n",
       " '368,82': Edge(Point(x=368, y=82), 94.847245611035),\n",
       " '368,168': Edge(Point(x=368, y=168), 168.61791126686393),\n",
       " '600,0': Edge(Point(x=600, y=0), 168.4280261714184)}"
      ]
     },
     "execution_count": 154,
     "metadata": {},
     "output_type": "execute_result"
    }
   ],
   "source": [
    "path_to_goal[3].edges"
   ]
  },
  {
   "cell_type": "code",
   "execution_count": 155,
   "metadata": {},
   "outputs": [
    {
     "data": {
      "text/plain": [
       "[<matplotlib.lines.Line2D at 0x81d552ad0>]"
      ]
     },
     "execution_count": 155,
     "metadata": {},
     "output_type": "execute_result"
    },
    {
     "data": {
      "image/png": "[encoded data removed]",
      "text/plain": [
       "<Figure size 432x288 with 1 Axes>"
      ]
     },
     "metadata": {
      "needs_background": "light"
     },
     "output_type": "display_data"
    }
   ],
   "source": [
    "plt.plot(start[0], start[1], 'or')\n",
    "\n",
    "for idx, obstacle in enumerate(obstacles):\n",
    "    x = [point[0] for point in obstacle]\n",
    "    y = [point[1] for point in obstacle]\n",
    "    x.append(obstacle[0][0])\n",
    "    y.append(obstacle[0][1])\n",
    "    \n",
    "    plt.plot(x, y, 'r-')\n",
    "    \n",
    "for idx, simplices in enumerate(padded_simplices):\n",
    "    for simplex in simplices:\n",
    "        plt.plot(simplex[0], simplex[1], 'k-')\n",
    "x = plt.plot(goal[0], goal[1], 'ob')\n",
    "\n",
    "for segment in itertools.chain.from_iterable(all_free_segments):\n",
    "    plt.plot([segment[0].x, segment[1].x], [segment[0].y, segment[1].y], 'y-')\n",
    "\n",
    "x_goal_path = [point.x for point in path_to_goal]\n",
    "y_goal_path = [point.y for point in path_to_goal]\n",
    "plt.plot(x_goal_path, y_goal_path, 'g-')"
   ]
  },
  {
   "cell_type": "code",
   "execution_count": 147,
   "metadata": {},
   "outputs": [],
   "source": [
    "# convert all_free_segments to node with edge nodes + weight\n",
    "# reduce to one point with neighbours"
   ]
  },
  {
   "cell_type": "code",
   "execution_count": 40,
   "metadata": {},
   "outputs": [],
   "source": [
    "def plot_map(start, goal, obstacles):\n",
    "    # Create a black image\n",
    "    img = np.full((600, 1200, 3), 255, np.uint8)\n",
    "\n",
    "    obs = []\n",
    "    # draw obstacles\n",
    "    for ob in obstacles:\n",
    "        ob = map2img(ob)\n",
    "        obs.append(ob)\n",
    "        # print(len(ob))\n",
    "        # print(ob)\n",
    "        cv2.fillConvexPoly(img, ob.reshape(-1, 1, 2), (255,255,0))\n",
    "\n",
    "    # draw start and goal point\n",
    "    goal_img = tuple(map2img([goal])[0])\n",
    "    start_img = tuple(map2img([start])[0])\n",
    "    circ1 = cv2.circle(img, goal_img, 7, (100, 0, 0), -1)\n",
    "    circ2 = cv2.circle(img, start_img, 7, (0, 0, 100), -1)\n",
    "    \n",
    "    fig = plt.figure(figsize=(20, 20))\n",
    "    plt.imshow(cv2.cvtColor(img, cv2.COLOR_BGR2RGB))\n",
    "#     plt.show()"
   ]
  },
  {
   "cell_type": "code",
   "execution_count": null,
   "metadata": {},
   "outputs": [],
   "source": [
    "# Create a black image\n",
    "img = np.full((600, 1200, 3), 255, np.uint8)\n",
    "    \n",
    "obs = []\n",
    "# draw obstacles\n",
    "for ob in obstacles:\n",
    "    ob = map2img(ob)\n",
    "    obs.append(ob)\n",
    "    # print(len(ob))\n",
    "    # print(ob)\n",
    "    cv2.fillConvexPoly(img, ob.reshape(-1, 1, 2), (255,255,0))\n",
    "\n",
    "# draw start and goal point\n",
    "goal_img = tuple(map2img([goal])[0])\n",
    "start_img = tuple(map2img([start])[0])\n",
    "circ1 = cv2.circle(img, goal_img, 7, (100, 0, 0), -1)\n",
    "circ2 = cv2.circle(img, start_img, 7, (0, 0, 100), -1)"
   ]
  },
  {
   "cell_type": "code",
   "execution_count": null,
   "metadata": {},
   "outputs": [],
   "source": [
    "fig = plt.figure(figsize=(20, 20))\n",
    "# ax = fig.gca()\n",
    "# ax.set_xticks(np.arange(0, 1, 1))\n",
    "# ax.set_yticks(np.arange(0, 1, 1))\n",
    "plt.imshow(cv2.cvtColor(img, cv2.COLOR_BGR2RGB))\n",
    "plt.show()"
   ]
  },
  {
   "cell_type": "code",
   "execution_count": null,
   "metadata": {},
   "outputs": [],
   "source": [
    "# Create a black image\n",
    "img = np.full((600, 1200, 3), 255, np.uint8)\n",
    "\n",
    "obs = []\n",
    "# draw obstacles\n",
    "for ob in obstacles:\n",
    "    ob = map2img(ob)\n",
    "    obs.append(ob)\n",
    "    # print(len(ob))\n",
    "    # print(ob)\n",
    "    cv2.fillConvexPoly(img, ob.reshape(-1, 1, 2), (255,255,0))\n",
    "\n",
    "# draw start and goal point\n",
    "goal_img = tuple(map2img([goal])[0])\n",
    "start_img = tuple(map2img([start])[0])\n",
    "circ1 = cv2.circle(img, goal_img, 7, (100, 0, 0), -1)\n",
    "circ2 = cv2.circle(img, start_img, 7, (0, 0, 100), -1)\n",
    "\n",
    "fig = plt.figure(figsize=(20, 20))\n",
    "ax = plt.imshow(cv2.cvtColor(img, cv2.COLOR_BGR2RGB))"
   ]
  },
  {
   "cell_type": "code",
   "execution_count": null,
   "metadata": {},
   "outputs": [],
   "source": [
    "boundary_points = hulls[0].points[hulls[0].vertices]\n",
    "plt.plot(boundary_points[:,0], boundary_points[:,1], 'ko')"
   ]
  },
  {
   "cell_type": "code",
   "execution_count": null,
   "metadata": {},
   "outputs": [],
   "source": [
    "start_obs_segments2 = [(start_point, obs_point) for obs_point in list(itertools.chain.from_iterable(obstacle_points))]\n",
    "start_obs_segments2.append((start_point, goal_point))"
   ]
  },
  {
   "cell_type": "code",
   "execution_count": null,
   "metadata": {
    "scrolled": true
   },
   "outputs": [],
   "source": [
    "extract_non_intersecting_lines(start_obs_segments2, obstacle_segments)"
   ]
  },
  {
   "cell_type": "code",
   "execution_count": null,
   "metadata": {},
   "outputs": [],
   "source": [
    "# # computing line segments for one convex hull edge\n",
    "# obs_point_segments = [(obstacle_points[0][i], obstacle_points[0][i+1]) for i in range(len(obstacle_points[0]) - 1) ]\n",
    "# if len(obstacle_points[0]) > 2:\n",
    "#     obs_point_segments.append((obstacle_points[0][-1], obstacle_points[0][0]))\n",
    "# obs_point_segments"
   ]
  },
  {
   "cell_type": "code",
   "execution_count": null,
   "metadata": {},
   "outputs": [],
   "source": [
    "# # from start point to points in convex hull\n",
    "# start_obs_segments = [(start_point, obs_point) for obs_point in obstacle_points[0]]\n",
    "# start_obs_segments"
   ]
  },
  {
   "cell_type": "code",
   "execution_count": null,
   "metadata": {},
   "outputs": [],
   "source": [
    "# lines_not_intersect = []\n",
    "# for idx1, start_obs_segment in enumerate(start_obs_segments):\n",
    "#     intersect = False\n",
    "\n",
    "#     for obs_point_segment in obs_point_segments:\n",
    "#         # skip checks if the end point of the start point is the same as the start or end of the obstacle segment\n",
    "#         if point_lie_on_segment(obs_point_segment[0], obs_point_segment[1], start_obs_segment[1]):\n",
    "#             continue\n",
    "            \n",
    "#         intersect = segment_intersect(*start_obs_segment, *obs_point_segment)\n",
    "#         if intersect:\n",
    "#             break\n",
    "\n",
    "#     if not intersect:\n",
    "#         lines_not_intersect.append(start_obs_segment)\n",
    "\n",
    "# lines_not_intersect"
   ]
  },
  {
   "cell_type": "code",
   "execution_count": null,
   "metadata": {},
   "outputs": [],
   "source": [
    "h = []"
   ]
  },
  {
   "cell_type": "code",
   "execution_count": null,
   "metadata": {},
   "outputs": [],
   "source": [
    "heapq.heappush(h, (5, Point(0,0)))\n",
    "heapq.heappush(h, (7,  Point(1,0)))\n",
    "heapq.heappush(h, (1,  Point(3,0)))\n",
    "heapq.heappush(h, (1,  Point(4,0)))\n",
    "heapq.heappush(h, (3,  Point(0,0)))"
   ]
  },
  {
   "cell_type": "code",
   "execution_count": null,
   "metadata": {},
   "outputs": [],
   "source": [
    "while len(h) > 0:\n",
    "    print(heapq.heappop(h))"
   ]
  },
  {
   "cell_type": "code",
   "execution_count": null,
   "metadata": {},
   "outputs": [],
   "source": []
  }
 ],
 "metadata": {
  "kernelspec": {
   "display_name": "homeworks",
   "language": "python",
   "name": "homeworks"
  },
  "language_info": {
   "codemirror_mode": {
    "name": "ipython",
    "version": 3
   },
   "file_extension": ".py",
   "mimetype": "text/x-python",
   "name": "python",
   "nbconvert_exporter": "python",
   "pygments_lexer": "ipython3",
   "version": "3.7.4"
  }
 },
 "nbformat": 4,
 "nbformat_minor": 4
}
